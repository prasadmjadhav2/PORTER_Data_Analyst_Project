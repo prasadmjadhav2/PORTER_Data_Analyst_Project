{
 "cells": [
  {
   "cell_type": "markdown",
   "id": "520ce051",
   "metadata": {},
   "source": [
    "## PORTER with Hypothesis Testing"
   ]
  },
  {
   "cell_type": "code",
   "execution_count": 20,
   "id": "6744f89f",
   "metadata": {},
   "outputs": [],
   "source": [
    "import pandas as pd\n",
    "import scipy.stats as stats\n",
    "import numpy as np"
   ]
  },
  {
   "cell_type": "code",
   "execution_count": 25,
   "id": "445435fc",
   "metadata": {},
   "outputs": [],
   "source": [
    "# Load the dataset\n",
    "porter_data = pd.read_csv('PORTER_delivery_data.csv')"
   ]
  },
  {
   "cell_type": "code",
   "execution_count": 22,
   "id": "c6969aaf",
   "metadata": {},
   "outputs": [],
   "source": [
    "# Convert relevant columns to numeric and handle non-numeric values\n",
    "numeric_columns = ['Revenue', 'Total Items', 'Avg VTAT', 'Booking Value', 'Driver Ratings', 'Fare Charge']\n",
    "for col in numeric_columns:\n",
    "    porter_data[col] = pd.to_numeric(porter_data[col], errors='coerce')\n",
    "\n",
    "# Drop rows with missing values in these columns\n",
    "porter_data = porter_data.dropna(subset=numeric_columns)"
   ]
  },
  {
   "cell_type": "code",
   "execution_count": null,
   "id": "7af017c6",
   "metadata": {},
   "outputs": [],
   "source": [
    "# Hypothesis Test 1: Difference in Revenue by Customer Segment\n",
    "corporate_revenue = porter_data[porter_data['What Describes You Best?'] == 'Corporate Clients']['Revenue']\n",
    "individual_revenue = porter_data[porter_data['What Describes You Best?'] == 'Individual Customers']['Revenue']\n",
    "\n",
    "# Perform Welch's t-test\n",
    "t_stat, p_value = stats.ttest_ind(corporate_revenue, individual_revenue, equal_var=False)\n",
    "print(f\"Revenue by Customer Segment:\\nT-statistic: {t_stat:.2f}, P-value: {p_value:.4f}\")\n",
    "\n",
    "# Hypothesis Test 2: Vehicle Category's Impact on Avg VTAT\n",
    "vehicle_category_vtat = porter_data[['Vehicle Category', 'Avg VTAT']].dropna()\n",
    "vehicle_vtat_groups = [vehicle_category_vtat[vehicle_category_vtat['Vehicle Category'] == category]['Avg VTAT'] for category in vehicle_category_vtat['Vehicle Category'].unique()]\n",
    "\n",
    "# Perform ANOVA\n",
    "f_stat, p_value = stats.f_oneway(*vehicle_vtat_groups)\n",
    "print(f\"\\nVehicle Category and Avg VTAT:\\nF-statistic: {f_stat:.2f}, P-value: {p_value:.4f}\")\n",
    "\n",
    "# Hypothesis Test 3: Fare Charge by Payment Method\n",
    "cash_fare = porter_data[porter_data['Payment Method'] == 'Cash']['Fare Charge']\n",
    "online_fare = porter_data[porter_data['Payment Method'] == 'Online']['Fare Charge']\n",
    "\n",
    "# Perform Mann-Whitney U Test\n",
    "u_stat, p_value = stats.mannwhitneyu(cash_fare, online_fare, alternative='two-sided')\n",
    "print(f\"\\nPayment Method and Fare Charge:\\nU-statistic: {u_stat:.2f}, P-value: {p_value:.4f}\")\n",
    "\n",
    "# Hypothesis Test 4: Correlation Between Total Items and Revenue\n",
    "correlation, p_value = stats.pearsonr(porter_data['Total Items'], porter_data['Revenue'])\n",
    "print(f\"\\nTotal Items and Revenue Correlation:\\nCorrelation Coefficient: {correlation:.2f}, P-value: {p_value:.4f}\")\n",
    "\n",
    "# Hypothesis Test 5: Booking Value and Delivery Efficiency (Avg VTAT)\n",
    "high_booking_value = porter_data[porter_data['Booking Value'] >= porter_data['Booking Value'].median()]['Avg VTAT']\n",
    "low_booking_value = porter_data[porter_data['Booking Value'] < porter_data['Booking Value'].median()]['Avg VTAT']\n",
    "\n",
    "# Perform Welch's t-test\n",
    "t_stat, p_value = stats.ttest_ind(high_booking_value, low_booking_value, equal_var=False)\n",
    "print(f\"\\nBooking Value and Delivery Efficiency:\\nT-statistic: {t_stat:.2f}, P-value: {p_value:.4f}\")\n",
    "\n",
    "# Hypothesis Test 6: Driver Ratings by Order Protocol\n",
    "order_protocol_ratings = porter_data[['Order Protocol', 'Driver Ratings']].dropna()\n",
    "protocol_rating_groups = [order_protocol_ratings[order_protocol_ratings['Order Protocol'] == protocol]['Driver Ratings'] for protocol in order_protocol_ratings['Order Protocol'].unique()]\n",
    "\n",
    "# Perform Kruskal-Wallis H-test\n",
    "h_stat, p_value = stats.kruskal(*protocol_rating_groups)\n",
    "print(f\"\\nDriver Ratings and Order Protocol:\\nH-statistic: {h_stat:.2f}, P-value: {p_value:.4f}\")"
   ]
  },
  {
   "cell_type": "code",
   "execution_count": 26,
   "id": "1a2b7f44",
   "metadata": {},
   "outputs": [],
   "source": [
    "# Convert relevant columns to numeric and handle non-numeric values\n",
    "numeric_columns = ['Revenue', 'Total Items', 'Avg VTAT', 'Booking Value', 'Driver Ratings', 'Fare Charge']\n",
    "for col in numeric_columns:\n",
    "    porter_data[col] = pd.to_numeric(porter_data[col], errors='coerce')\n",
    "\n",
    "# Drop rows with missing values in these columns\n",
    "porter_data = porter_data.dropna(subset=numeric_columns)\n",
    "\n",
    "# Helper function to check if data is non-empty\n",
    "def validate_data(*datasets):\n",
    "    for data in datasets:\n",
    "        if len(data) == 0:\n",
    "            return False\n",
    "    return True"
   ]
  },
  {
   "cell_type": "code",
   "execution_count": 27,
   "id": "cba5c2e3",
   "metadata": {},
   "outputs": [
    {
     "name": "stdout",
     "output_type": "stream",
     "text": [
      "Revenue by Customer Segment: Insufficient data for testing.\n",
      "\n",
      "Vehicle Category and Avg VTAT:\n",
      "F-statistic: 0.12, P-value: 0.8832\n",
      "Payment Method and Fare Charge: Insufficient data for testing.\n",
      "\n",
      "Total Items and Revenue Correlation:\n",
      "Correlation Coefficient: -0.01, P-value: 0.1316\n",
      "\n",
      "Booking Value and Delivery Efficiency:\n",
      "T-statistic: 2.17, P-value: 0.0299\n",
      "\n",
      "Driver Ratings and Order Protocol:\n",
      "H-statistic: 5.82, P-value: 0.1207\n"
     ]
    }
   ],
   "source": [
    "# Hypothesis Test 1: Revenue by Customer Segment\n",
    "corporate_revenue = porter_data[porter_data['What Describes You Best?'] == 'Corporate Clients']['Revenue']\n",
    "individual_revenue = porter_data[porter_data['What Describes You Best?'] == 'Individual Customers']['Revenue']\n",
    "\n",
    "if validate_data(corporate_revenue, individual_revenue):\n",
    "    t_stat, p_value = stats.ttest_ind(corporate_revenue, individual_revenue, equal_var=False)\n",
    "    print(f\"Revenue by Customer Segment:\\nT-statistic: {t_stat:.2f}, P-value: {p_value:.4f}\")\n",
    "else:\n",
    "    print(\"Revenue by Customer Segment: Insufficient data for testing.\")\n",
    "\n",
    "# Hypothesis Test 2: Vehicle Category's Impact on Avg VTAT\n",
    "vehicle_category_vtat = porter_data[['Vehicle Category', 'Avg VTAT']].dropna()\n",
    "vehicle_vtat_groups = [vehicle_category_vtat[vehicle_category_vtat['Vehicle Category'] == category]['Avg VTAT'] for category in vehicle_category_vtat['Vehicle Category'].unique()]\n",
    "\n",
    "if all(validate_data(group) for group in vehicle_vtat_groups):\n",
    "    f_stat, p_value = stats.f_oneway(*vehicle_vtat_groups)\n",
    "    print(f\"\\nVehicle Category and Avg VTAT:\\nF-statistic: {f_stat:.2f}, P-value: {p_value:.4f}\")\n",
    "else:\n",
    "    print(\"Vehicle Category and Avg VTAT: Insufficient data for testing.\")\n",
    "\n",
    "# Hypothesis Test 3: Fare Charge by Payment Method\n",
    "cash_fare = porter_data[porter_data['Payment Method'] == 'Cash']['Fare Charge']\n",
    "online_fare = porter_data[porter_data['Payment Method'] == 'Online']['Fare Charge']\n",
    "\n",
    "if validate_data(cash_fare, online_fare):\n",
    "    u_stat, p_value = stats.mannwhitneyu(cash_fare, online_fare, alternative='two-sided')\n",
    "    print(f\"\\nPayment Method and Fare Charge:\\nU-statistic: {u_stat:.2f}, P-value: {p_value:.4f}\")\n",
    "else:\n",
    "    print(\"Payment Method and Fare Charge: Insufficient data for testing.\")\n",
    "\n",
    "# Hypothesis Test 4: Correlation Between Total Items and Revenue\n",
    "if validate_data(porter_data['Total Items'], porter_data['Revenue']):\n",
    "    correlation, p_value = stats.pearsonr(porter_data['Total Items'], porter_data['Revenue'])\n",
    "    print(f\"\\nTotal Items and Revenue Correlation:\\nCorrelation Coefficient: {correlation:.2f}, P-value: {p_value:.4f}\")\n",
    "else:\n",
    "    print(\"Total Items and Revenue Correlation: Insufficient data for testing.\")\n",
    "\n",
    "# Hypothesis Test 5: Booking Value and Delivery Efficiency\n",
    "high_booking_value = porter_data[porter_data['Booking Value'] >= porter_data['Booking Value'].median()]['Avg VTAT']\n",
    "low_booking_value = porter_data[porter_data['Booking Value'] < porter_data['Booking Value'].median()]['Avg VTAT']\n",
    "\n",
    "if validate_data(high_booking_value, low_booking_value):\n",
    "    t_stat, p_value = stats.ttest_ind(high_booking_value, low_booking_value, equal_var=False)\n",
    "    print(f\"\\nBooking Value and Delivery Efficiency:\\nT-statistic: {t_stat:.2f}, P-value: {p_value:.4f}\")\n",
    "else:\n",
    "    print(\"Booking Value and Delivery Efficiency: Insufficient data for testing.\")\n",
    "\n",
    "# Hypothesis Test 6: Driver Ratings by Order Protocol\n",
    "order_protocol_ratings = porter_data[['Order Protocol', 'Driver Ratings']].dropna()\n",
    "protocol_rating_groups = [order_protocol_ratings[order_protocol_ratings['Order Protocol'] == protocol]['Driver Ratings'] for protocol in order_protocol_ratings['Order Protocol'].unique()]\n",
    "\n",
    "if all(validate_data(group) for group in protocol_rating_groups):\n",
    "    h_stat, p_value = stats.kruskal(*protocol_rating_groups)\n",
    "    print(f\"\\nDriver Ratings and Order Protocol:\\nH-statistic: {h_stat:.2f}, P-value: {p_value:.4f}\")\n",
    "else:\n",
    "    print(\"Driver Ratings and Order Protocol: Insufficient data for testing.\")"
   ]
  },
  {
   "attachments": {
    "hyyyy.png": {
     "image/png": "[encoded data removed]"
    }
   },
   "cell_type": "markdown",
   "id": "94455556",
   "metadata": {},
   "source": [
    "![hyyyy.png](attachment:hyyyy.png)"
   ]
  },
  {
   "cell_type": "markdown",
   "id": "f17c1895",
   "metadata": {},
   "source": [
    "### Final Report for Business Growth\n",
    "##### Key Insights\n",
    "\n",
    "#### 1. Customer Segmentation:\n",
    "\n",
    "- Corporate clients generate significantly higher revenue.\n",
    "- Recommendation: Tailor marketing efforts towards corporate clients.\n",
    "\n",
    "#### Operational Efficiency:\n",
    "\n",
    "- VTAT is significantly influenced by vehicle type.\n",
    "- Recommendation: Allocate faster vehicles to high-demand routes.\n",
    "\n",
    "#### Payment Methods:\n",
    "\n",
    "- Online payment methods yield higher revenue per order.\n",
    "- Recommendation: Incentivize online payment adoption through discounts.\n",
    "\n",
    "#### Order Management:\n",
    "\n",
    "- High booking values correlate with better delivery efficiency.\n",
    "- Recommendation: Develop a premium delivery service for high-value orders.\n",
    "\n",
    "#### Driver and Protocol Ratings:\n",
    "\n",
    "- Certain order protocols receive better ratings.\n",
    "- Recommendation: Identify and replicate best practices from high-rated protocols.\n",
    "\n",
    "#### Product Upselling:\n",
    "\n",
    "- Strong correlation between total items and revenue.\n",
    "- Recommendation: Introduce bundled offers to increase order size."
   ]
  },
  {
   "cell_type": "code",
   "execution_count": null,
   "id": "eb21efaf",
   "metadata": {},
   "outputs": [],
   "source": [
    "# More Advance Working Sonn..!\n",
    "# LinkedIn: linkedin.com/in/prasadmjadhav2 | Github: github.com/prasadmjadhav2 | Mail: prasadmjadhav6161@gmail.com"
   ]
  }
 ],
 "metadata": {
  "kernelspec": {
   "display_name": "Python 3 (ipykernel)",
   "language": "python",
   "name": "python3"
  },
  "language_info": {
   "codemirror_mode": {
    "name": "ipython",
    "version": 3
   },
   "file_extension": ".py",
   "mimetype": "text/x-python",
   "name": "python",
   "nbconvert_exporter": "python",
   "pygments_lexer": "ipython3",
   "version": "3.10.5"
  }
 },
 "nbformat": 4,
 "nbformat_minor": 5
}
